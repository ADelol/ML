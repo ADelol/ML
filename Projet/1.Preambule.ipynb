{
 "cells": [
  {
   "cell_type": "markdown",
   "metadata": {},
   "source": [
    "# ML-ZixuanFENG-ArnaudDELOL"
   ]
  },
  {
   "cell_type": "markdown",
   "metadata": {},
   "source": [
    "## 1. Préambule"
   ]
  },
  {
   "cell_type": "code",
   "execution_count": 1,
   "metadata": {},
   "outputs": [],
   "source": [
    "import numpy as np\n",
    "import matplotlib.pyplot as plt\n",
    "from sklearn import linear_model"
   ]
  },
  {
   "cell_type": "code",
   "execution_count": 2,
   "metadata": {},
   "outputs": [],
   "source": [
    "def load_usps(filename):\n",
    "    with open (filename,\"r\") as f :\n",
    "        f.readline()\n",
    "        data=[[float(x) for x in l.split()] for l in f if len(l.split())>2]\n",
    "    tmp=np.array(data)\n",
    "    return tmp[:,1:],tmp[:,0].astype(int)\n",
    "\n",
    "def show_usps(data):\n",
    "    plt.imshow(data.reshape((16,16)),interpolation=\"nearest\",cmap=\"gray\")\n",
    "    plt.colorbar()"
   ]
  },
  {
   "cell_type": "code",
   "execution_count": 5,
   "metadata": {},
   "outputs": [],
   "source": [
    "def choose_0_1(datax,datay):\n",
    "    res_x=[]\n",
    "    res_y=[]\n",
    "    for i in range(len(datax)):\n",
    "        if datay[i]==0 or datay[i]==1:\n",
    "            res_x.append(datax[i])\n",
    "            res_y.append(datay[i])\n",
    "    return res_x,res_y"
   ]
  },
  {
   "cell_type": "code",
   "execution_count": 6,
   "metadata": {},
   "outputs": [],
   "source": [
    "data_all_x,data_all_y=load_usps(\"./USPS/USPS_train.txt\")\n",
    "datax,datay=choose_0_1(data_all_x,data_all_y)"
   ]
  },
  {
   "cell_type": "markdown",
   "metadata": {},
   "source": [
    "<br/>Régression linéaire:"
   ]
  },
  {
   "cell_type": "code",
   "execution_count": 7,
   "metadata": {},
   "outputs": [
    {
     "name": "stdout",
     "output_type": "stream",
     "text": [
      "score= 0.9844401527577691\n",
      "norme= 40636267009.58993\n",
      "nb_non_null= 255\n"
     ]
    }
   ],
   "source": [
    "#regression lineaire\n",
    "linear=linear_model.LinearRegression()\n",
    "linear.fit(datax,datay)\n",
    "print(\"score=\",linear.score(datax,datay))\n",
    "#print(linear.intercept_)\n",
    "\n",
    "w_linear=linear.coef_\n",
    "print(\"norme=\",np.linalg.norm(w_linear))\n",
    "print(\"nb_non_null=\",len(np.nonzero(w_linear)[0]))"
   ]
  },
  {
   "cell_type": "markdown",
   "metadata": {},
   "source": [
    "<br/>Régression ridge:"
   ]
  },
  {
   "cell_type": "code",
   "execution_count": 8,
   "metadata": {},
   "outputs": [],
   "source": [
    "#Pour trouver le mieux alpha, on crée un ensemble de valeur à tester\n",
    "alphas=np.logspace(-5,-2,200)"
   ]
  },
  {
   "cell_type": "code",
   "execution_count": 9,
   "metadata": {},
   "outputs": [
    {
     "name": "stdout",
     "output_type": "stream",
     "text": [
      "alpha= 0.01\n",
      "score= 0.9844216685577594\n",
      "norme= 0.6514994215590485\n",
      "nb_non_null= 254\n"
     ]
    }
   ],
   "source": [
    "#regression ridge\n",
    "ridge=linear_model.RidgeCV(alphas=alphas)\n",
    "ridge.fit(datax,datay)\n",
    "print(\"alpha=\",ridge.alpha_)\n",
    "print(\"score=\",ridge.score(datax,datay))\n",
    "#print(ridge.intercept_)\n",
    "\n",
    "w_ridge=ridge.coef_\n",
    "print(\"norme=\",np.linalg.norm(w_ridge))\n",
    "print(\"nb_non_null=\",len(np.nonzero(w_ridge)[0]))"
   ]
  },
  {
   "cell_type": "markdown",
   "metadata": {},
   "source": [
    "<br/>Algorithme LASSO:"
   ]
  },
  {
   "cell_type": "code",
   "execution_count": 11,
   "metadata": {},
   "outputs": [
    {
     "name": "stdout",
     "output_type": "stream",
     "text": [
      "alpha= 0.000344896226040576\n",
      "score= 0.9828869896234311\n",
      "norme= 0.17193589018122418\n",
      "nb_non_null= 107\n"
     ]
    }
   ],
   "source": [
    "#algo du LASSO\n",
    "lasso=linear_model.LassoCV(alphas=alphas)\n",
    "lasso.fit(datax,datay)\n",
    "print(\"alpha=\",lasso.alpha_)\n",
    "print(\"score=\",lasso.score(datax,datay))\n",
    "#print(lasso.intercept_)\n",
    "\n",
    "w_lasso=lasso.coef_\n",
    "print(\"norme=\",np.linalg.norm(w_lasso))\n",
    "print(\"nb_non_null=\",len(np.nonzero(w_lasso)[0]))"
   ]
  },
  {
   "cell_type": "code",
   "execution_count": null,
   "metadata": {},
   "outputs": [],
   "source": []
  }
 ],
 "metadata": {
  "kernelspec": {
   "display_name": "Python 3",
   "language": "python",
   "name": "python3"
  },
  "language_info": {
   "codemirror_mode": {
    "name": "ipython",
    "version": 3
   },
   "file_extension": ".py",
   "mimetype": "text/x-python",
   "name": "python",
   "nbconvert_exporter": "python",
   "pygments_lexer": "ipython3",
   "version": "3.7.4"
  }
 },
 "nbformat": 4,
 "nbformat_minor": 4
}
